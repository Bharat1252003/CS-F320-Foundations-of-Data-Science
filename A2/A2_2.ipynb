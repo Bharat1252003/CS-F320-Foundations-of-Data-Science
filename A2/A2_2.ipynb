{
  "nbformat": 4,
  "nbformat_minor": 0,
  "metadata": {
    "colab": {
      "provenance": []
    },
    "kernelspec": {
      "name": "python3",
      "display_name": "Python 3"
    },
    "language_info": {
      "name": "python"
    }
  },
  "cells": [
    {
      "cell_type": "code",
      "execution_count": null,
      "metadata": {
        "id": "xk8plmTTWrYF"
      },
      "outputs": [],
      "source": [
        "import pandas as pd\n",
        "import numpy as np\n",
        "import seaborn as sns\n",
        "\n",
        "from sklearn.linear_model import LinearRegression\n",
        "from sklearn.preprocessing import StandardScaler\n",
        "from sklearn.model_selection import train_test_split"
      ]
    },
    {
      "cell_type": "code",
      "source": [
        "from google.colab import drive\n",
        "drive.mount('/content/mydrive')"
      ],
      "metadata": {
        "colab": {
          "base_uri": "https://localhost:8080/"
        },
        "id": "FEi8NpOcW9Lq",
        "outputId": "f520e211-7c12-473c-df90-7bc8a3780006"
      },
      "execution_count": null,
      "outputs": [
        {
          "output_type": "stream",
          "name": "stdout",
          "text": [
            "Mounted at /content/mydrive\n"
          ]
        }
      ]
    },
    {
      "cell_type": "code",
      "source": [
        "%cd /content/mydrive/MyDrive/Sem_5/FODS_Project"
      ],
      "metadata": {
        "colab": {
          "base_uri": "https://localhost:8080/"
        },
        "id": "sicE3K5xXdbx",
        "outputId": "5cc9c80c-4c96-4c5c-9892-8f727c785d8e"
      },
      "execution_count": null,
      "outputs": [
        {
          "output_type": "stream",
          "name": "stdout",
          "text": [
            "/content/mydrive/MyDrive/Sem_5/FODS_Project\n"
          ]
        }
      ]
    },
    {
      "cell_type": "markdown",
      "source": [
        "### Data"
      ],
      "metadata": {
        "id": "mKd4XYcSdEPg"
      }
    },
    {
      "cell_type": "code",
      "source": [
        "data_df = pd.read_csv('FODS-A2.csv')\n",
        "print(data_df.shape)\n",
        "data_df.head()"
      ],
      "metadata": {
        "id": "KWDW7iZHW6eK",
        "colab": {
          "base_uri": "https://localhost:8080/",
          "height": 298
        },
        "outputId": "bacc0566-4d90-463b-9e3a-0c43806155bc"
      },
      "execution_count": 53,
      "outputs": [
        {
          "output_type": "stream",
          "name": "stdout",
          "text": [
            "(7894, 27)\n"
          ]
        },
        {
          "output_type": "execute_result",
          "data": {
            "text/plain": [
              "      T1    RH_1         T2       RH_2         T3       RH_3     T4   RH_4  \\\n",
              "0  21.20  33.290  19.823333  31.790000  23.463333  38.230000  20.50  31.73   \n",
              "1  21.79  38.500  19.500000  40.633333  22.500000  37.900000  21.00  37.90   \n",
              "2  22.39  41.390  20.200000  43.790000  24.500000  39.333333  20.10  38.26   \n",
              "3  24.00  30.260  24.390000  26.963333  23.390000  33.400000  22.79  31.20   \n",
              "4  20.05  38.245  17.600000  41.000000  21.100000  37.200000  19.89  36.40   \n",
              "\n",
              "          T5       RH_5  ...       RH_9  T_out  Press_mm_hg     RH_out  \\\n",
              "0  19.200000  39.363333  ...  29.230000   9.85   756.183333  41.833333   \n",
              "1  20.033333  47.290000  ...  40.326667   6.90   754.000000  75.000000   \n",
              "2  19.390000  48.090000  ...  42.060000  10.10   756.433333  68.000000   \n",
              "3  21.033333  40.626667  ...  35.500000  19.10   760.000000  31.000000   \n",
              "4  18.200000  43.560000  ...  38.863333   0.10   754.600000  99.000000   \n",
              "\n",
              "   Windspeed  Visibility  Tdewpoint        rv1        rv2  Appliances  \n",
              "0   4.833333        40.0      -2.67  42.017180  42.017180         290  \n",
              "1   4.000000        40.0       2.80  24.624380  24.624380          50  \n",
              "2   5.833333        40.0       4.45   3.731260   3.731260         260  \n",
              "3   4.000000        40.0       1.50   1.058826   1.058826          50  \n",
              "4   1.000000        32.0      -0.10  39.248108  39.248108          30  \n",
              "\n",
              "[5 rows x 27 columns]"
            ],
            "text/html": [
              "\n",
              "  <div id=\"df-9ea236e7-7cfc-4ae8-9a46-0ee740cf45e9\">\n",
              "    <div class=\"colab-df-container\">\n",
              "      <div>\n",
              "<style scoped>\n",
              "    .dataframe tbody tr th:only-of-type {\n",
              "        vertical-align: middle;\n",
              "    }\n",
              "\n",
              "    .dataframe tbody tr th {\n",
              "        vertical-align: top;\n",
              "    }\n",
              "\n",
              "    .dataframe thead th {\n",
              "        text-align: right;\n",
              "    }\n",
              "</style>\n",
              "<table border=\"1\" class=\"dataframe\">\n",
              "  <thead>\n",
              "    <tr style=\"text-align: right;\">\n",
              "      <th></th>\n",
              "      <th>T1</th>\n",
              "      <th>RH_1</th>\n",
              "      <th>T2</th>\n",
              "      <th>RH_2</th>\n",
              "      <th>T3</th>\n",
              "      <th>RH_3</th>\n",
              "      <th>T4</th>\n",
              "      <th>RH_4</th>\n",
              "      <th>T5</th>\n",
              "      <th>RH_5</th>\n",
              "      <th>...</th>\n",
              "      <th>RH_9</th>\n",
              "      <th>T_out</th>\n",
              "      <th>Press_mm_hg</th>\n",
              "      <th>RH_out</th>\n",
              "      <th>Windspeed</th>\n",
              "      <th>Visibility</th>\n",
              "      <th>Tdewpoint</th>\n",
              "      <th>rv1</th>\n",
              "      <th>rv2</th>\n",
              "      <th>Appliances</th>\n",
              "    </tr>\n",
              "  </thead>\n",
              "  <tbody>\n",
              "    <tr>\n",
              "      <th>0</th>\n",
              "      <td>21.20</td>\n",
              "      <td>33.290</td>\n",
              "      <td>19.823333</td>\n",
              "      <td>31.790000</td>\n",
              "      <td>23.463333</td>\n",
              "      <td>38.230000</td>\n",
              "      <td>20.50</td>\n",
              "      <td>31.73</td>\n",
              "      <td>19.200000</td>\n",
              "      <td>39.363333</td>\n",
              "      <td>...</td>\n",
              "      <td>29.230000</td>\n",
              "      <td>9.85</td>\n",
              "      <td>756.183333</td>\n",
              "      <td>41.833333</td>\n",
              "      <td>4.833333</td>\n",
              "      <td>40.0</td>\n",
              "      <td>-2.67</td>\n",
              "      <td>42.017180</td>\n",
              "      <td>42.017180</td>\n",
              "      <td>290</td>\n",
              "    </tr>\n",
              "    <tr>\n",
              "      <th>1</th>\n",
              "      <td>21.79</td>\n",
              "      <td>38.500</td>\n",
              "      <td>19.500000</td>\n",
              "      <td>40.633333</td>\n",
              "      <td>22.500000</td>\n",
              "      <td>37.900000</td>\n",
              "      <td>21.00</td>\n",
              "      <td>37.90</td>\n",
              "      <td>20.033333</td>\n",
              "      <td>47.290000</td>\n",
              "      <td>...</td>\n",
              "      <td>40.326667</td>\n",
              "      <td>6.90</td>\n",
              "      <td>754.000000</td>\n",
              "      <td>75.000000</td>\n",
              "      <td>4.000000</td>\n",
              "      <td>40.0</td>\n",
              "      <td>2.80</td>\n",
              "      <td>24.624380</td>\n",
              "      <td>24.624380</td>\n",
              "      <td>50</td>\n",
              "    </tr>\n",
              "    <tr>\n",
              "      <th>2</th>\n",
              "      <td>22.39</td>\n",
              "      <td>41.390</td>\n",
              "      <td>20.200000</td>\n",
              "      <td>43.790000</td>\n",
              "      <td>24.500000</td>\n",
              "      <td>39.333333</td>\n",
              "      <td>20.10</td>\n",
              "      <td>38.26</td>\n",
              "      <td>19.390000</td>\n",
              "      <td>48.090000</td>\n",
              "      <td>...</td>\n",
              "      <td>42.060000</td>\n",
              "      <td>10.10</td>\n",
              "      <td>756.433333</td>\n",
              "      <td>68.000000</td>\n",
              "      <td>5.833333</td>\n",
              "      <td>40.0</td>\n",
              "      <td>4.45</td>\n",
              "      <td>3.731260</td>\n",
              "      <td>3.731260</td>\n",
              "      <td>260</td>\n",
              "    </tr>\n",
              "    <tr>\n",
              "      <th>3</th>\n",
              "      <td>24.00</td>\n",
              "      <td>30.260</td>\n",
              "      <td>24.390000</td>\n",
              "      <td>26.963333</td>\n",
              "      <td>23.390000</td>\n",
              "      <td>33.400000</td>\n",
              "      <td>22.79</td>\n",
              "      <td>31.20</td>\n",
              "      <td>21.033333</td>\n",
              "      <td>40.626667</td>\n",
              "      <td>...</td>\n",
              "      <td>35.500000</td>\n",
              "      <td>19.10</td>\n",
              "      <td>760.000000</td>\n",
              "      <td>31.000000</td>\n",
              "      <td>4.000000</td>\n",
              "      <td>40.0</td>\n",
              "      <td>1.50</td>\n",
              "      <td>1.058826</td>\n",
              "      <td>1.058826</td>\n",
              "      <td>50</td>\n",
              "    </tr>\n",
              "    <tr>\n",
              "      <th>4</th>\n",
              "      <td>20.05</td>\n",
              "      <td>38.245</td>\n",
              "      <td>17.600000</td>\n",
              "      <td>41.000000</td>\n",
              "      <td>21.100000</td>\n",
              "      <td>37.200000</td>\n",
              "      <td>19.89</td>\n",
              "      <td>36.40</td>\n",
              "      <td>18.200000</td>\n",
              "      <td>43.560000</td>\n",
              "      <td>...</td>\n",
              "      <td>38.863333</td>\n",
              "      <td>0.10</td>\n",
              "      <td>754.600000</td>\n",
              "      <td>99.000000</td>\n",
              "      <td>1.000000</td>\n",
              "      <td>32.0</td>\n",
              "      <td>-0.10</td>\n",
              "      <td>39.248108</td>\n",
              "      <td>39.248108</td>\n",
              "      <td>30</td>\n",
              "    </tr>\n",
              "  </tbody>\n",
              "</table>\n",
              "<p>5 rows × 27 columns</p>\n",
              "</div>\n",
              "      <button class=\"colab-df-convert\" onclick=\"convertToInteractive('df-9ea236e7-7cfc-4ae8-9a46-0ee740cf45e9')\"\n",
              "              title=\"Convert this dataframe to an interactive table.\"\n",
              "              style=\"display:none;\">\n",
              "        \n",
              "  <svg xmlns=\"http://www.w3.org/2000/svg\" height=\"24px\"viewBox=\"0 0 24 24\"\n",
              "       width=\"24px\">\n",
              "    <path d=\"M0 0h24v24H0V0z\" fill=\"none\"/>\n",
              "    <path d=\"M18.56 5.44l.94 2.06.94-2.06 2.06-.94-2.06-.94-.94-2.06-.94 2.06-2.06.94zm-11 1L8.5 8.5l.94-2.06 2.06-.94-2.06-.94L8.5 2.5l-.94 2.06-2.06.94zm10 10l.94 2.06.94-2.06 2.06-.94-2.06-.94-.94-2.06-.94 2.06-2.06.94z\"/><path d=\"M17.41 7.96l-1.37-1.37c-.4-.4-.92-.59-1.43-.59-.52 0-1.04.2-1.43.59L10.3 9.45l-7.72 7.72c-.78.78-.78 2.05 0 2.83L4 21.41c.39.39.9.59 1.41.59.51 0 1.02-.2 1.41-.59l7.78-7.78 2.81-2.81c.8-.78.8-2.07 0-2.86zM5.41 20L4 18.59l7.72-7.72 1.47 1.35L5.41 20z\"/>\n",
              "  </svg>\n",
              "      </button>\n",
              "      \n",
              "  <style>\n",
              "    .colab-df-container {\n",
              "      display:flex;\n",
              "      flex-wrap:wrap;\n",
              "      gap: 12px;\n",
              "    }\n",
              "\n",
              "    .colab-df-convert {\n",
              "      background-color: #E8F0FE;\n",
              "      border: none;\n",
              "      border-radius: 50%;\n",
              "      cursor: pointer;\n",
              "      display: none;\n",
              "      fill: #1967D2;\n",
              "      height: 32px;\n",
              "      padding: 0 0 0 0;\n",
              "      width: 32px;\n",
              "    }\n",
              "\n",
              "    .colab-df-convert:hover {\n",
              "      background-color: #E2EBFA;\n",
              "      box-shadow: 0px 1px 2px rgba(60, 64, 67, 0.3), 0px 1px 3px 1px rgba(60, 64, 67, 0.15);\n",
              "      fill: #174EA6;\n",
              "    }\n",
              "\n",
              "    [theme=dark] .colab-df-convert {\n",
              "      background-color: #3B4455;\n",
              "      fill: #D2E3FC;\n",
              "    }\n",
              "\n",
              "    [theme=dark] .colab-df-convert:hover {\n",
              "      background-color: #434B5C;\n",
              "      box-shadow: 0px 1px 3px 1px rgba(0, 0, 0, 0.15);\n",
              "      filter: drop-shadow(0px 1px 2px rgba(0, 0, 0, 0.3));\n",
              "      fill: #FFFFFF;\n",
              "    }\n",
              "  </style>\n",
              "\n",
              "      <script>\n",
              "        const buttonEl =\n",
              "          document.querySelector('#df-9ea236e7-7cfc-4ae8-9a46-0ee740cf45e9 button.colab-df-convert');\n",
              "        buttonEl.style.display =\n",
              "          google.colab.kernel.accessAllowed ? 'block' : 'none';\n",
              "\n",
              "        async function convertToInteractive(key) {\n",
              "          const element = document.querySelector('#df-9ea236e7-7cfc-4ae8-9a46-0ee740cf45e9');\n",
              "          const dataTable =\n",
              "            await google.colab.kernel.invokeFunction('convertToInteractive',\n",
              "                                                     [key], {});\n",
              "          if (!dataTable) return;\n",
              "\n",
              "          const docLinkHtml = 'Like what you see? Visit the ' +\n",
              "            '<a target=\"_blank\" href=https://colab.research.google.com/notebooks/data_table.ipynb>data table notebook</a>'\n",
              "            + ' to learn more about interactive tables.';\n",
              "          element.innerHTML = '';\n",
              "          dataTable['output_type'] = 'display_data';\n",
              "          await google.colab.output.renderOutput(dataTable, element);\n",
              "          const docLink = document.createElement('div');\n",
              "          docLink.innerHTML = docLinkHtml;\n",
              "          element.appendChild(docLink);\n",
              "        }\n",
              "      </script>\n",
              "    </div>\n",
              "  </div>\n",
              "  "
            ]
          },
          "metadata": {},
          "execution_count": 53
        }
      ]
    },
    {
      "cell_type": "code",
      "source": [
        "x = data_df.iloc[:,:-1]\n",
        "print(x.shape)\n",
        "y = data_df.iloc[:,-1]\n",
        "print(y.shape)"
      ],
      "metadata": {
        "colab": {
          "base_uri": "https://localhost:8080/"
        },
        "id": "c3gIN96hXt2c",
        "outputId": "7527175c-3cb9-49d3-8be3-924d022de6c8"
      },
      "execution_count": 54,
      "outputs": [
        {
          "output_type": "stream",
          "name": "stdout",
          "text": [
            "(7894, 26)\n",
            "(7894,)\n"
          ]
        }
      ]
    },
    {
      "cell_type": "code",
      "source": [
        "scaler_x = StandardScaler()\n",
        "scaler_x.fit(x)\n",
        "x_scaled = scaler_x.transform(x)\n",
        "x_scaled.shape"
      ],
      "metadata": {
        "colab": {
          "base_uri": "https://localhost:8080/"
        },
        "id": "8hPRf6J7XxLk",
        "outputId": "c53e1b0b-3a10-4b4e-a205-8c82e8f6bf29"
      },
      "execution_count": 57,
      "outputs": [
        {
          "output_type": "execute_result",
          "data": {
            "text/plain": [
              "(7894, 26)"
            ]
          },
          "metadata": {},
          "execution_count": 57
        }
      ]
    },
    {
      "cell_type": "code",
      "source": [
        "y = np.array(y).reshape(-1,1)\n",
        "y.shape\n",
        "scaler_y = StandardScaler()\n",
        "scaler_y.fit(y)\n",
        "y_scaled = scaler_y.transform(y)\n",
        "y_scaled.shape"
      ],
      "metadata": {
        "colab": {
          "base_uri": "https://localhost:8080/"
        },
        "id": "GZYW3JhycrF3",
        "outputId": "d73101aa-9ebc-4267-9e55-f0f6492d8b1b"
      },
      "execution_count": 59,
      "outputs": [
        {
          "output_type": "execute_result",
          "data": {
            "text/plain": [
              "(7894, 1)"
            ]
          },
          "metadata": {},
          "execution_count": 59
        }
      ]
    },
    {
      "cell_type": "code",
      "source": [
        "x_train , x_test , y_train , y_test = train_test_split(x_scaled, y_scaled, test_size=0.2 ,random_state=30)"
      ],
      "metadata": {
        "id": "Mn2a_J2KYaDS"
      },
      "execution_count": 60,
      "outputs": []
    },
    {
      "cell_type": "code",
      "source": [
        "model = LinearRegression()\n",
        "model.fit(x_train,y_train)\n",
        "train_score = model.score(x_train,y_train)\n",
        "test_score = model.score(x_test,y_test)\n",
        "\n",
        "print(train_score)\n",
        "print(test_score)"
      ],
      "metadata": {
        "colab": {
          "base_uri": "https://localhost:8080/"
        },
        "id": "Xy-kqjzRYrpT",
        "outputId": "7fa29f18-cde2-4c73-db39-1f79c261eba0"
      },
      "execution_count": 61,
      "outputs": [
        {
          "output_type": "stream",
          "name": "stdout",
          "text": [
            "0.1455438599174067\n",
            "0.1253382224250098\n"
          ]
        }
      ]
    },
    {
      "cell_type": "code",
      "source": [
        "import math\n",
        "from sklearn.metrics import mean_squared_error\n",
        "\n",
        "pred = model.predict(x_test)\n",
        "rmse = math.sqrt(mean_squared_error(y_test,pred))\n",
        "print(rmse)"
      ],
      "metadata": {
        "id": "G_BUtXKNb_sT",
        "colab": {
          "base_uri": "https://localhost:8080/"
        },
        "outputId": "df83bf43-f0f9-4fce-9631-012e8c03f729"
      },
      "execution_count": 196,
      "outputs": [
        {
          "output_type": "stream",
          "name": "stdout",
          "text": [
            "0.9595423601536057\n"
          ]
        }
      ]
    },
    {
      "cell_type": "code",
      "source": [
        "print(x_train.shape)"
      ],
      "metadata": {
        "colab": {
          "base_uri": "https://localhost:8080/"
        },
        "id": "rJh1aD136oW3",
        "outputId": "07890452-a2fc-4f67-b3f1-a226187e2f61"
      },
      "execution_count": 86,
      "outputs": [
        {
          "output_type": "stream",
          "name": "stdout",
          "text": [
            "(6315, 26)\n"
          ]
        }
      ]
    },
    {
      "cell_type": "markdown",
      "source": [
        "### Helper functions and classes"
      ],
      "metadata": {
        "id": "rPU6gFOHc9zY"
      }
    },
    {
      "cell_type": "code",
      "source": [
        "class CustomLinearRegression:\n",
        "  def __init__(self):\n",
        "    self.lr = 1e-1\n",
        "    self.epochs = 1000\n",
        "    pass\n",
        "  \n",
        "  def fit(self, X, y):\n",
        "    self.W = np.zeros((X.shape[1],1))\n",
        "    self.b = np.array([0])\n",
        "    for _ in range(self.epochs):\n",
        "      y_hat = np.dot(X, self.W) + self.b\n",
        "      m = X.shape[0]\n",
        "      dy = (y_hat - y)\n",
        "      dW = (1/m) * np.dot(X.T, dy)\n",
        "      db = (1/m) * np.sum(dy)\n",
        "      self.W = self.W - self.lr*dW\n",
        "      self.b = self.b - self.lr*db\n",
        "  \n",
        "  def predict(self, X):\n",
        "    return np.dot(X, self.W) + self.b"
      ],
      "metadata": {
        "id": "udBLCI1EdIq_"
      },
      "execution_count": 238,
      "outputs": []
    },
    {
      "cell_type": "code",
      "source": [
        "model_custom = CustomLinearRegression()\n",
        "model_custom.fit(x_train,y_train)\n",
        "pred = model_custom.predict(x_test)\n",
        "rmse = math.sqrt(mean_squared_error(y_test,pred))\n",
        "print(rmse)"
      ],
      "metadata": {
        "colab": {
          "base_uri": "https://localhost:8080/"
        },
        "id": "ntdUG7btiY1k",
        "outputId": "fad7a8e4-4834-4b67-d927-c81ba10d67c6"
      },
      "execution_count": 241,
      "outputs": [
        {
          "output_type": "stream",
          "name": "stdout",
          "text": [
            "0.959542138819973\n"
          ]
        }
      ]
    },
    {
      "cell_type": "code",
      "source": [
        "a = [i for i in range(x.shape[1])]\n",
        "vars = a\n",
        "rmse_all = rmse_from_vars(vars, x_train , x_test , y_train , y_test)\n",
        "print(rmse_all)"
      ],
      "metadata": {
        "colab": {
          "base_uri": "https://localhost:8080/"
        },
        "id": "6_l7rsm84h3t",
        "outputId": "dfd762cd-93d3-4805-996f-b569ef879589"
      },
      "execution_count": 153,
      "outputs": [
        {
          "output_type": "stream",
          "name": "stdout",
          "text": [
            "0.9595423601536057\n"
          ]
        }
      ]
    },
    {
      "cell_type": "code",
      "source": [
        "def rmse_from_vars(vars, x_train , x_test , y_train , y_test):\n",
        "  x_train_temp = []\n",
        "  x_test_temp = []\n",
        "  for i in vars:\n",
        "    x_train_temp.append(x_train[:,i])\n",
        "    x_test_temp.append(x_test[:,i])\n",
        "\n",
        "  x_train_temp = np.array(x_train_temp).T\n",
        "  x_test_temp = np.array(x_test_temp).T\n",
        "\n",
        "  model_temp = CustomLinearRegression()\n",
        "  model_temp.fit(x_train_temp,y_train)\n",
        "  pred = model_temp.predict(x_test_temp)\n",
        "  rmse = math.sqrt(mean_squared_error(y_test,pred))\n",
        "  return rmse"
      ],
      "metadata": {
        "id": "5Y2DpGzi7TS0"
      },
      "execution_count": 246,
      "outputs": []
    },
    {
      "cell_type": "markdown",
      "source": [
        "### Forward Greedy"
      ],
      "metadata": {
        "id": "94pcZE_DOL8r"
      }
    },
    {
      "cell_type": "code",
      "source": [
        "a = [i for i in range(x.shape[1])]\n",
        "rmse_best = 1e4\n",
        "vars = []\n",
        "while a:\n",
        "  rmse_dict = {}\n",
        "  vars_temp = vars\n",
        "  for i in a:\n",
        "    vars_temp.append(i)\n",
        "    rmse_temp = rmse_from_vars(vars_temp, x_train , x_test , y_train , y_test)\n",
        "    rmse_dict[str(i)] = rmse_temp\n",
        "    vars_temp.remove(i)\n",
        "  \n",
        "  rmse_iter = float(min(zip(rmse_dict.values(), rmse_dict.keys()))[0])\n",
        "  if rmse_iter>rmse_best:\n",
        "    break\n",
        "  else:\n",
        "    rmse_best = rmse_iter\n",
        "    var = int(min(zip(rmse_dict.values(), rmse_dict.keys()))[1])\n",
        "    vars.append(var)\n",
        "    a.remove(var)\n",
        "  print(rmse_best)\n",
        "  print(vars)"
      ],
      "metadata": {
        "colab": {
          "base_uri": "https://localhost:8080/"
        },
        "id": "znxBpZvbRu-H",
        "outputId": "ec586802-fa96-405f-fe5f-97070fdc9673"
      },
      "execution_count": 247,
      "outputs": [
        {
          "output_type": "stream",
          "name": "stdout",
          "text": [
            "1.0138305252232327\n",
            "[20]\n",
            "1.0062867775634954\n",
            "[20, 1]\n",
            "0.9932267103417312\n",
            "[20, 1, 15]\n",
            "0.9863130256106569\n",
            "[20, 1, 15, 3]\n",
            "0.9832285273450012\n",
            "[20, 1, 15, 3, 21]\n",
            "0.9810870923786664\n",
            "[20, 1, 15, 3, 21, 13]\n",
            "0.9799570214478841\n",
            "[20, 1, 15, 3, 21, 13, 4]\n",
            "0.9680031114866456\n",
            "[20, 1, 15, 3, 21, 13, 4, 16]\n",
            "0.9642336106279341\n",
            "[20, 1, 15, 3, 21, 13, 4, 16, 2]\n",
            "0.9626596113220096\n",
            "[20, 1, 15, 3, 21, 13, 4, 16, 2, 10]\n",
            "0.9601397639609455\n",
            "[20, 1, 15, 3, 21, 13, 4, 16, 2, 10, 14]\n",
            "0.958854796305508\n",
            "[20, 1, 15, 3, 21, 13, 4, 16, 2, 10, 14, 18]\n",
            "0.9585554651705097\n",
            "[20, 1, 15, 3, 21, 13, 4, 16, 2, 10, 14, 18, 7]\n",
            "0.9579713281959752\n",
            "[20, 1, 15, 3, 21, 13, 4, 16, 2, 10, 14, 18, 7, 6]\n",
            "0.9576799592076534\n",
            "[20, 1, 15, 3, 21, 13, 4, 16, 2, 10, 14, 18, 7, 6, 22]\n",
            "0.9576134042549151\n",
            "[20, 1, 15, 3, 21, 13, 4, 16, 2, 10, 14, 18, 7, 6, 22, 23]\n",
            "0.9575857972496086\n",
            "[20, 1, 15, 3, 21, 13, 4, 16, 2, 10, 14, 18, 7, 6, 22, 23, 8]\n",
            "0.9575540467392756\n",
            "[20, 1, 15, 3, 21, 13, 4, 16, 2, 10, 14, 18, 7, 6, 22, 23, 8, 17]\n"
          ]
        }
      ]
    },
    {
      "cell_type": "code",
      "source": [
        "print(len(vars))"
      ],
      "metadata": {
        "colab": {
          "base_uri": "https://localhost:8080/"
        },
        "id": "nKH-k8iCU_Hn",
        "outputId": "54c7f135-be78-4a00-aec0-93223f1e6994"
      },
      "execution_count": 248,
      "outputs": [
        {
          "output_type": "stream",
          "name": "stdout",
          "text": [
            "18\n"
          ]
        }
      ]
    },
    {
      "cell_type": "code",
      "source": [
        "print(vars)\n",
        "vars.sort()\n",
        "print(vars)\n",
        "#[20, 1, 15, 3, 21, 13, 4, 16, 2, 10, 14, 18, 6, 7, 22, 8, 17, 12]"
      ],
      "metadata": {
        "colab": {
          "base_uri": "https://localhost:8080/"
        },
        "id": "HarsrpTlAgVh",
        "outputId": "7279b7ac-4c09-477a-bbce-2e92d9386cd3"
      },
      "execution_count": 249,
      "outputs": [
        {
          "output_type": "stream",
          "name": "stdout",
          "text": [
            "[20, 1, 15, 3, 21, 13, 4, 16, 2, 10, 14, 18, 7, 6, 22, 23, 8, 17]\n",
            "[1, 2, 3, 4, 6, 7, 8, 10, 13, 14, 15, 16, 17, 18, 20, 21, 22, 23]\n"
          ]
        }
      ]
    },
    {
      "cell_type": "code",
      "source": [
        "print(rmse_all)\n",
        "print(rmse_best)"
      ],
      "metadata": {
        "colab": {
          "base_uri": "https://localhost:8080/"
        },
        "id": "ZF_DvqFrAt94",
        "outputId": "ec4d8693-9c35-4eff-cf30-8339b5e4b2e4"
      },
      "execution_count": 250,
      "outputs": [
        {
          "output_type": "stream",
          "name": "stdout",
          "text": [
            "0.9595423601536057\n",
            "0.9575540467392756\n"
          ]
        }
      ]
    },
    {
      "cell_type": "markdown",
      "source": [
        "### Backward Greedy"
      ],
      "metadata": {
        "id": "480jkHXqOO0J"
      }
    },
    {
      "cell_type": "code",
      "source": [
        "a = [i for i in range(x.shape[1])]\n",
        "rmse_best = rmse_all\n",
        "vars = a.copy()\n",
        "\n",
        "while a:\n",
        "  rmse_dict = {}\n",
        "  vars_temp = a.copy()\n",
        "  for i in a:\n",
        "    vars_temp.remove(i)\n",
        "    rmse_temp = rmse_from_vars(vars_temp, x_train , x_test , y_train , y_test)\n",
        "    rmse_dict[str(i)] = rmse_temp\n",
        "    vars_temp.append(i)\n",
        "  \n",
        "  rmse_iter = float(min(zip(rmse_dict.values(), rmse_dict.keys()))[0])\n",
        "  if rmse_iter>rmse_best:\n",
        "    break\n",
        "  else:\n",
        "    rmse_best = rmse_iter\n",
        "    var = int(min(zip(rmse_dict.values(), rmse_dict.keys()))[1])\n",
        "    vars.remove(var)\n",
        "    a.remove(var)\n",
        "  print(rmse_best)\n",
        "  print(vars)"
      ],
      "metadata": {
        "colab": {
          "base_uri": "https://localhost:8080/"
        },
        "id": "KNMgqc5SOQ_S",
        "outputId": "db5cde72-93a6-4e74-a414-d1ee843013de"
      },
      "execution_count": 251,
      "outputs": [
        {
          "output_type": "stream",
          "name": "stdout",
          "text": [
            "0.9586871813646709\n",
            "[0, 1, 2, 3, 4, 5, 6, 7, 8, 9, 10, 11, 12, 13, 14, 15, 16, 17, 18, 20, 21, 22, 23, 24, 25]\n",
            "0.9582510856110045\n",
            "[0, 1, 2, 3, 4, 5, 6, 7, 8, 10, 11, 12, 13, 14, 15, 16, 17, 18, 20, 21, 22, 23, 24, 25]\n",
            "0.9579395134107956\n",
            "[0, 1, 2, 3, 4, 5, 6, 7, 8, 10, 12, 13, 14, 15, 16, 17, 18, 20, 21, 22, 23, 24, 25]\n",
            "0.9577113124310452\n",
            "[0, 1, 2, 3, 4, 6, 7, 8, 10, 12, 13, 14, 15, 16, 17, 18, 20, 21, 22, 23, 24, 25]\n",
            "0.9576408757686011\n",
            "[1, 2, 3, 4, 6, 7, 8, 10, 12, 13, 14, 15, 16, 17, 18, 20, 21, 22, 23, 24, 25]\n",
            "0.9576249436195521\n",
            "[1, 2, 3, 4, 6, 7, 8, 10, 13, 14, 15, 16, 17, 18, 20, 21, 22, 23, 24, 25]\n",
            "0.9576249336624996\n",
            "[1, 2, 3, 4, 6, 7, 8, 10, 13, 14, 15, 16, 17, 18, 20, 21, 22, 23, 25]\n",
            "0.9575540467392756\n",
            "[1, 2, 3, 4, 6, 7, 8, 10, 13, 14, 15, 16, 17, 18, 20, 21, 22, 23]\n"
          ]
        }
      ]
    },
    {
      "cell_type": "code",
      "source": [
        "print(len(vars))"
      ],
      "metadata": {
        "colab": {
          "base_uri": "https://localhost:8080/"
        },
        "id": "KT_6_CO1RJ5w",
        "outputId": "ab9436fb-47a5-4110-84e0-ed44b19619a4"
      },
      "execution_count": 252,
      "outputs": [
        {
          "output_type": "stream",
          "name": "stdout",
          "text": [
            "18\n"
          ]
        }
      ]
    },
    {
      "cell_type": "code",
      "source": [
        "print(vars)\n",
        "vars.sort()\n",
        "print(vars)\n",
        "# [1, 2, 3, 4, 6, 7, 8, 10, 12, 13, 14, 15, 16, 17, 18, 21, 22]"
      ],
      "metadata": {
        "colab": {
          "base_uri": "https://localhost:8080/"
        },
        "id": "_w9tw1HlPL4U",
        "outputId": "81da94c8-7f0d-4434-a302-75b45df10b8e"
      },
      "execution_count": 253,
      "outputs": [
        {
          "output_type": "stream",
          "name": "stdout",
          "text": [
            "[1, 2, 3, 4, 6, 7, 8, 10, 13, 14, 15, 16, 17, 18, 20, 21, 22, 23]\n",
            "[1, 2, 3, 4, 6, 7, 8, 10, 13, 14, 15, 16, 17, 18, 20, 21, 22, 23]\n"
          ]
        }
      ]
    },
    {
      "cell_type": "code",
      "source": [
        "print(rmse_all)\n",
        "print(rmse_best)"
      ],
      "metadata": {
        "colab": {
          "base_uri": "https://localhost:8080/"
        },
        "id": "YL2UuHsiczB5",
        "outputId": "9a2d68bf-42f1-42d1-a950-ac1db9ae4933"
      },
      "execution_count": 254,
      "outputs": [
        {
          "output_type": "stream",
          "name": "stdout",
          "text": [
            "0.9595423601536057\n",
            "0.9575540467392756\n"
          ]
        }
      ]
    }
  ]
}